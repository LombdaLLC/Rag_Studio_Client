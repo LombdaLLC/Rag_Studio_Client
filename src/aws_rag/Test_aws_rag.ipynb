{
 "cells": [
  {
   "cell_type": "code",
   "execution_count": 10,
   "metadata": {},
   "outputs": [],
   "source": [
    "import json\n",
    "data={}\n",
    "with open(\"us-east-1_john_uploaded_files_2304.08485.pdf_2304.08485.pdf_RootExtract.json\", \"r\") as f:\n",
    "    data = json.load(f)"
   ]
  },
  {
   "cell_type": "code",
   "execution_count": 11,
   "metadata": {},
   "outputs": [],
   "source": [
    "def RecursiveCharacterTextSplitter(texts, chunk_size, chunk_overlap):\n",
    "    raw_chunks = texts.split(\"\\n\")\n",
    "    text_chunks = []\n",
    "    chunk_text = \"\"\n",
    "    for chunk in raw_chunks:\n",
    "        # Add the current line to the chunk text\n",
    "        chunk_text += f\"{chunk}\\n\"\n",
    "        if len(chunk_text) >= chunk_size:\n",
    "            # If the chunk text reaches or exceeds the chunk size, append it to the list\n",
    "            text_chunks.append(chunk_text)\n",
    "            # Then start the next chunk with the overlap from the current chunk\n",
    "            chunk_text = chunk_text[-chunk_overlap:]\n",
    "    # After looping through all lines, add any remaining text as the last chunk\n",
    "    if chunk_text.strip():  # This checks if there's any non-whitespace character left\n",
    "        text_chunks.append(chunk_text)\n",
    "    return text_chunks"
   ]
  },
  {
   "cell_type": "code",
   "execution_count": 12,
   "metadata": {},
   "outputs": [],
   "source": [
    "contents = RecursiveCharacterTextSplitter(data[\"body\"], 1024, 128)"
   ]
  },
  {
   "cell_type": "code",
   "execution_count": 13,
   "metadata": {},
   "outputs": [],
   "source": [
    "import pickle\n",
    "with open(\"embeddings_data.pkl\",\"rb\") as f:\n",
    "    embeddings_data = pickle.loads(f.read())"
   ]
  },
  {
   "cell_type": "code",
   "execution_count": 20,
   "metadata": {},
   "outputs": [],
   "source": [
    "import uuid\n",
    "import numpy as np\n",
    "chunks = [(str(uuid.uuid4()),p,json.dumps({\"doc_id\":\"test_json\"}),\"source.json\") for i, p in enumerate(contents)]"
   ]
  },
  {
   "cell_type": "code",
   "execution_count": 21,
   "metadata": {},
   "outputs": [],
   "source": [
    "import base64\n",
    "base64_bytes = base64.b64encode(pickle.dumps(chunks)) \n",
    "base64_string = base64_bytes.decode(\"ascii\") "
   ]
  },
  {
   "cell_type": "code",
   "execution_count": 16,
   "metadata": {},
   "outputs": [],
   "source": [
    "loaded_chunks = pickle.loads(base64.b64decode(base64_string))"
   ]
  },
  {
   "cell_type": "code",
   "execution_count": 24,
   "metadata": {},
   "outputs": [
    {
     "data": {
      "text/plain": [
       "[{'2304.08485.pdf': ['text-embedding-3-small']}]"
      ]
     },
     "execution_count": 24,
     "metadata": {},
     "output_type": "execute_result"
    }
   ],
   "source": [
    "from aws_rag import get_user_files\n",
    "key = \"eyJhbGciOiJSUzI1NiIsImtpZCI6IjBiN2UyN2Y3LTEzOTYtNDhlOS05ZmY2LWFhOWEwOTk3YmEyMiIsInR5cCI6IkpXVCJ9.eyJleHAiOjE3MTI1MjUzOTUsImlzcyI6Imh0dHA6Ly9sb2NhbGhvc3QubG9jYWxzdGFjay5jbG91ZDo0NTY2L3VzLWVhc3QtMV81ODdjN2VkNWE1MmQ0NzE3OTM4MmI0ZGIzMmU3MGFlOCIsInN1YiI6ImY4MDUxNDJhLTAxMzUtNGM3MC1iOWZhLWZkZjhmZmViMjk3YiIsImF1dGhfdGltZSI6MTcxMjUyMTc5NSwiaWF0IjoxNzEyNTIxNzk1LCJldmVudF9pZCI6IjA2Y2QyOWViLTdkNjQtNDk0My1hZGI0LTExMzU0Y2ZjYTUxNSIsInRva2VuX3VzZSI6ImFjY2VzcyIsInVzZXJuYW1lIjoiam9obiIsImp0aSI6ImIyYzUwM2RmLWQ1MTUtNDBlYS04NjFkLTY2Njg0ZjU4ZTA4NCIsImNsaWVudF9pZCI6Ijd1bnI2cDc5eDc5cjQ0bXh1and2NGI2anE4Iiwic2NvcGUiOiJhd3MuY29nbml0by5zaWduaW4udXNlci5hZG1pbiJ9.In5_kOTLQm9FOxmrIwcdkix3oS6D6SR0pVWYf0skJkWPorTzAWuhSHLRyC5BB4esm2cS6XiUaAxyFuCF4QHnlMDAKSGhqzVSM2XevftK0H1nhSlar_uMpJSTRBMKpKTLYCszpVBpGLbmhLsjmyFv7jKZpke1RR3obi9M_C85qexTP2Q5jj46LOXUAoJyjxx-Dre-sR9nWXFJkEJoePTjx1vrWsoZydq11ff86WwziJWsWkZKyS4R3PwQwuALggvZgo3aq9CbzsQ_CHrylXrz4mYBzES_xSaQr0LrhK_qq7r45wU6Q9u4p1uAhUHXfeRbExbSE5jIZ6O12D7AyL96LA\"\n",
    "get_user_files(key)"
   ]
  },
  {
   "cell_type": "code",
   "execution_count": 23,
   "metadata": {},
   "outputs": [
    {
     "name": "stdout",
     "output_type": "stream",
     "text": [
      "got response\n",
      "<Response [200]>\n",
      "200\n",
      "\"Invocation successful!\"\n"
     ]
    },
    {
     "data": {
      "text/plain": [
       "'Invocation successful!'"
      ]
     },
     "execution_count": 23,
     "metadata": {},
     "output_type": "execute_result"
    }
   ],
   "source": [
    "from aws_rag import add_documents\n",
    "\n",
    "collection = \"new_collection\"\n",
    "emd_model = \"text-embedding-3-small\"\n",
    "add_documents(key, collection,\"\",emd_model, base64_string)"
   ]
  }
 ],
 "metadata": {
  "kernelspec": {
   "display_name": "Python 3",
   "language": "python",
   "name": "python3"
  },
  "language_info": {
   "codemirror_mode": {
    "name": "ipython",
    "version": 3
   },
   "file_extension": ".py",
   "mimetype": "text/x-python",
   "name": "python",
   "nbconvert_exporter": "python",
   "pygments_lexer": "ipython3",
   "version": "3.11.9"
  }
 },
 "nbformat": 4,
 "nbformat_minor": 2
}
